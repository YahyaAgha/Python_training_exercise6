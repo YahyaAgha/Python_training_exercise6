{
 "cells": [
  {
   "cell_type": "markdown",
   "metadata": {},
   "source": []
  },
  {
   "cell_type": "markdown",
   "metadata": {},
   "source": [
    "#### Exercise 1:\n",
    "Write a python program that creates a file and writes the numbers from 1 to 10 each on a new line. Save your code in a file named `exercise1.py`"
   ]
  },
  {
   "cell_type": "code",
   "execution_count": null,
   "metadata": {},
   "outputs": [],
   "source": [
    "## solved with file exercise1.py"
   ]
  },
  {
   "cell_type": "markdown",
   "metadata": {},
   "source": [
    "#### Exercise 2:\n",
    "Write a python program that asks the user for input and appends the input to a file. The program should keep asking the user for input until the user enters the word \"stop\". Save your code in a file named `exercise2.py`"
   ]
  },
  {
   "cell_type": "code",
   "execution_count": null,
   "metadata": {},
   "outputs": [],
   "source": [
    "#Solved with file exercise2.py"
   ]
  },
  {
   "cell_type": "markdown",
   "metadata": {},
   "source": [
    "#### Exercise 3:\n",
    "Using pickle module, pickle the dictionary `book` and save it to a file. Then load the dictionary back from the file and print it."
   ]
  },
  {
   "cell_type": "code",
   "execution_count": 1,
   "metadata": {},
   "outputs": [
    {
     "name": "stdout",
     "output_type": "stream",
     "text": [
      "{'title': 'Head First Python', 'author': '**********', 'price': '50 USD'}\n"
     ]
    }
   ],
   "source": [
    "import pickle\n",
    "\n",
    "book = {\"title\": \"Head First Python\", \"author\": \"**********\", \"price\": \"50 USD\"}\n",
    "\n",
    "with open('book.pickle', 'wb') as ff:\n",
    "    pickle.dump(book, ff)\n",
    "\n",
    "with open('book.pickle', 'rb') as file:\n",
    "    l_book = pickle.load(file)\n",
    "\n",
    "print(l_book)"
   ]
  }
 ],
 "metadata": {
  "kernelspec": {
   "display_name": "Python 3",
   "language": "python",
   "name": "python3"
  },
  "language_info": {
   "codemirror_mode": {
    "name": "ipython",
    "version": 3
   },
   "file_extension": ".py",
   "mimetype": "text/x-python",
   "name": "python",
   "nbconvert_exporter": "python",
   "pygments_lexer": "ipython3",
   "version": "3.12.3"
  }
 },
 "nbformat": 4,
 "nbformat_minor": 2
}
